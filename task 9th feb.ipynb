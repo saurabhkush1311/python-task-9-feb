{
 "cells": [
  {
   "cell_type": "code",
   "execution_count": 35,
   "id": "7aae6b22-5dfc-4c66-a0fd-5092e8becce7",
   "metadata": {},
   "outputs": [],
   "source": [
    "#Question 1:\n",
    "#Answer:\n",
    "class vehicle:\n",
    "    def __init__(self, name_of_vehicle , max_speed , average_of_vehicle):\n",
    "        self.name_of_vehicle = name_of_vehicle\n",
    "        self.max_speed = max_speed\n",
    "        self.average_of_vehicle = average_of_vehicle\n",
    "        \n",
    "    def info_vehicle(self):\n",
    "        return self.name_of_vehicle , self.max_speed , self.average_of_vehicle"
   ]
  },
  {
   "cell_type": "code",
   "execution_count": 38,
   "id": "4021717d-a290-4b0b-8b07-eba4ffc3b9a1",
   "metadata": {},
   "outputs": [],
   "source": [
    "v = vehicle(\"baleno\",200,70)"
   ]
  },
  {
   "cell_type": "code",
   "execution_count": 37,
   "id": "1973f79e-a361-496f-9cd1-c64e3095fc49",
   "metadata": {},
   "outputs": [
    {
     "data": {
      "text/plain": [
       "70"
      ]
     },
     "execution_count": 37,
     "metadata": {},
     "output_type": "execute_result"
    }
   ],
   "source": [
    "v.average_of_vehicle"
   ]
  },
  {
   "cell_type": "code",
   "execution_count": 39,
   "id": "c86bd8fa-5cd6-4828-b02c-5bc01ac0ad5c",
   "metadata": {},
   "outputs": [
    {
     "data": {
      "text/plain": [
       "200"
      ]
     },
     "execution_count": 39,
     "metadata": {},
     "output_type": "execute_result"
    }
   ],
   "source": [
    "v.max_speed"
   ]
  },
  {
   "cell_type": "code",
   "execution_count": 40,
   "id": "897a07ab-28d2-42cb-b52e-9131315d2fac",
   "metadata": {},
   "outputs": [
    {
     "data": {
      "text/plain": [
       "'baleno'"
      ]
     },
     "execution_count": 40,
     "metadata": {},
     "output_type": "execute_result"
    }
   ],
   "source": [
    "v.name_of_vehicle"
   ]
  },
  {
   "cell_type": "code",
   "execution_count": 41,
   "id": "abffa6ff-22cf-42ae-bb19-060b9325ff8f",
   "metadata": {},
   "outputs": [
    {
     "data": {
      "text/plain": [
       "('baleno', 200, 70)"
      ]
     },
     "execution_count": 41,
     "metadata": {},
     "output_type": "execute_result"
    }
   ],
   "source": [
    "v.info_vehicle()"
   ]
  },
  {
   "cell_type": "code",
   "execution_count": 131,
   "id": "2adb8f08-9b45-4010-92c6-b193d22e798e",
   "metadata": {},
   "outputs": [],
   "source": [
    "#Question 2:\n",
    "#Answer:\n",
    "class vehicle:\n",
    "    def __init__(self, name_of_vehicle , max_speed , average_of_vehicle):\n",
    "        self.name_of_vehicle = name_of_vehicle\n",
    "        self.max_speed = max_speed\n",
    "        self.average_of_vehicle = average_of_vehicle\n",
    "        \n",
    "    def info_vehicle(self):\n",
    "        return self.name_of_vehicle , self.max_speed , self.average_of_vehicle\n",
    "    \n",
    "class car(vehicle):\n",
    "    def seating_capacity(self,capacity):\n",
    "        return capacity,self.name_of_vehicle\n",
    "\n"
   ]
  },
  {
   "cell_type": "code",
   "execution_count": 132,
   "id": "bd9bb732-127d-4db3-91da-60bfb35953d2",
   "metadata": {},
   "outputs": [],
   "source": [
    "s = car(\"baleno\",200,7)"
   ]
  },
  {
   "cell_type": "code",
   "execution_count": 133,
   "id": "a02e0ba9-1b25-469d-b195-3b4426553144",
   "metadata": {},
   "outputs": [
    {
     "data": {
      "text/plain": [
       "(10, 'baleno')"
      ]
     },
     "execution_count": 133,
     "metadata": {},
     "output_type": "execute_result"
    }
   ],
   "source": [
    "s.seating_capacity(10)"
   ]
  },
  {
   "cell_type": "code",
   "execution_count": 134,
   "id": "875cffd6-0f6e-469e-96aa-ddb9e109c10a",
   "metadata": {},
   "outputs": [],
   "source": [
    "#Question 3:\n",
    "#Answer: A class can be derived from more than one superclass in Python. This is called multiple inheritance.\n",
    "\n",
    "class father:\n",
    "    def fname(self):\n",
    "        return \"my father name is s\"\n",
    "\n",
    "class mother:\n",
    "    def mname(self):\n",
    "        return\"mother name is y\"\n",
    "\n",
    "class child(father,mother):\n",
    "    pass"
   ]
  },
  {
   "cell_type": "code",
   "execution_count": 135,
   "id": "0a6e4987-e558-45d6-b636-f3f0032894a4",
   "metadata": {},
   "outputs": [],
   "source": [
    "child = child()"
   ]
  },
  {
   "cell_type": "code",
   "execution_count": 136,
   "id": "0a44ef58-9577-4a28-a8fb-beb8a208b178",
   "metadata": {},
   "outputs": [
    {
     "data": {
      "text/plain": [
       "'my father name is s'"
      ]
     },
     "execution_count": 136,
     "metadata": {},
     "output_type": "execute_result"
    }
   ],
   "source": [
    "child.fname()"
   ]
  },
  {
   "cell_type": "code",
   "execution_count": 137,
   "id": "f016c599-e52c-4e02-b593-4333d519513e",
   "metadata": {},
   "outputs": [
    {
     "data": {
      "text/plain": [
       "'mother name is y'"
      ]
     },
     "execution_count": 137,
     "metadata": {},
     "output_type": "execute_result"
    }
   ],
   "source": [
    "child.mname()"
   ]
  },
  {
   "cell_type": "code",
   "execution_count": 166,
   "id": "c4e32770-6206-4032-914d-31deeddbe535",
   "metadata": {},
   "outputs": [
    {
     "name": "stdout",
     "output_type": "stream",
     "text": [
      "20\n",
      "20\n"
     ]
    }
   ],
   "source": [
    "#Question 4:\n",
    "#Answer:\n",
    "\"\"\" Getters: These are the methods used in Object-Oriented Programming (OOPS) which helps to access the private attributes from a class.\n",
    "Setters: These are the methods used in OOPS feature which helps to set the value to private attributes in a class.\"\"\"\n",
    "class admit:\n",
    "    def __init__(self,age = 0):\n",
    "        self.age = age\n",
    "    \n",
    "    def get_age(self):\n",
    "        return self.age\n",
    "    \n",
    "    def set_age(self,x):\n",
    "        self.age = x\n",
    "        \n",
    "saurabh = admit()\n",
    "saurabh.set_age(20)\n",
    "print(saurabh.get_age())\n",
    "print(saurabh.age)"
   ]
  },
  {
   "cell_type": "code",
   "execution_count": 168,
   "id": "f168f43f-0f85-4be6-8c79-69bb19d5c395",
   "metadata": {},
   "outputs": [
    {
     "name": "stdout",
     "output_type": "stream",
     "text": [
      "Inside Parent\n",
      "Inside Child\n"
     ]
    }
   ],
   "source": [
    "#Question 5:\n",
    "#Answer:\n",
    "\"\"\"Method overriding is a feature of object-oriented programming languages\n",
    "where the subclass or child class can provide the program with specific characteristics \n",
    "or a specific implementation process of data provided that are already defined in the parent class or superclass.\"\"\"\n",
    "\n",
    "class parent():\n",
    "    \n",
    "    def __init__(self):\n",
    "        self.value = \"Inside Parent\"\n",
    "        \n",
    "    def show(self):\n",
    "        print(self.value)\n",
    "        \n",
    "    \n",
    "class child(parent):\n",
    "    \n",
    "    def __init__(self):\n",
    "        self.value = \"Inside Child\"\n",
    "        \n",
    "    def show(self):\n",
    "        print(self.value)\n",
    "        \n",
    "obj1 = parent()\n",
    "obj2 = child()\n",
    "\n",
    "obj1.show()\n",
    "obj2.show()\n"
   ]
  },
  {
   "cell_type": "code",
   "execution_count": null,
   "id": "402c1c19-f692-4a71-8a76-feaca0ce1bda",
   "metadata": {},
   "outputs": [],
   "source": []
  }
 ],
 "metadata": {
  "kernelspec": {
   "display_name": "Python 3 (ipykernel)",
   "language": "python",
   "name": "python3"
  },
  "language_info": {
   "codemirror_mode": {
    "name": "ipython",
    "version": 3
   },
   "file_extension": ".py",
   "mimetype": "text/x-python",
   "name": "python",
   "nbconvert_exporter": "python",
   "pygments_lexer": "ipython3",
   "version": "3.10.8"
  }
 },
 "nbformat": 4,
 "nbformat_minor": 5
}
